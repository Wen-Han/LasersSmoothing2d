{
 "cells": [
  {
   "cell_type": "code",
   "execution_count": null,
   "id": "b046c9f8",
   "metadata": {},
   "outputs": [],
   "source": [
    "%matplotlib notebook\n",
    "import sys\n",
    "import numpy as np\n",
    "from scipy import special\n",
    "import matplotlib.pyplot as plt"
   ]
  },
  {
   "cell_type": "code",
   "execution_count": null,
   "id": "7b4bed68",
   "metadata": {},
   "outputs": [],
   "source": [
    "delta_m = 10.3  # modulation depth\n",
    "w_m = 0.002   # modulation angular frequency\n",
    "nt, tmax = 200000, 200000*np.pi\n",
    "t = np.linspace(0, tmax, nt)\n",
    "w = np.fft.fftshift(np.fft.fftfreq(nt, d=tmax/nt))*2*np.pi\n",
    "Et = np.exp(1j*delta_m*np.sin(w_m*t))\n",
    "\n",
    "psd = np.abs(np.fft.fftshift(np.fft.fft(Et)))**2\n",
    "ac = np.correlate(Et, Et, mode='same')\n",
    "acfft = np.abs(np.fft.fftshift(np.fft.fft(ac)))\n",
    "acw = np.fft.fftshift(np.fft.fftfreq(acfft.size, d=tmax/nt))*2*np.pi\n",
    "\n",
    "\n",
    "def theoretical_spectrum(order, delta_m, w_m):\n",
    "    n = np.arange(-order, order)\n",
    "    spec = np.abs(special.jv(n, delta_m))**2\n",
    "    return n*w_m, spec/np.max(spec)\n",
    "\n",
    "\n",
    "plt.figure()\n",
    "plt.plot(w, psd/np.max(psd), label='PSD definition')\n",
    "plt.plot(acw, acfft/np.max(acfft), ls='--', label='autocorrelation FFT')\n",
    "wcomp, theo = theoretical_spectrum(int(round(2*delta_m)), delta_m, w_m)\n",
    "plt.stem(wcomp, theo, markerfmt='kd', linefmt='k:', basefmt='k:', label='analytical')\n",
    "\n",
    "plt.xlim(-delta_m*w_m*2, delta_m*w_m*2)\n",
    "plt.xlabel('$\\Delta\\omega/\\omega_0$')\n",
    "plt.title('power spectral density of FM SSD')\n",
    "plt.legend()"
   ]
  },
  {
   "cell_type": "code",
   "execution_count": null,
   "id": "c1a60cb0",
   "metadata": {},
   "outputs": [],
   "source": []
  }
 ],
 "metadata": {
  "kernelspec": {
   "display_name": "Python 3 (ipykernel)",
   "language": "python",
   "name": "python3"
  },
  "language_info": {
   "codemirror_mode": {
    "name": "ipython",
    "version": 3
   },
   "file_extension": ".py",
   "mimetype": "text/x-python",
   "name": "python",
   "nbconvert_exporter": "python",
   "pygments_lexer": "ipython3",
   "version": "3.9.7"
  }
 },
 "nbformat": 4,
 "nbformat_minor": 5
}
